{
 "cells": [
  {
   "cell_type": "raw",
   "id": "4b381eeb",
   "metadata": {},
   "source": [
    "---\n",
    "title: \"Ethereum contracts Explorations\"\n",
    "author: \"trangnv\"\n",
    "jupyter: python3\n",
    "toc: true\n",
    "number-sections: true\n",
    "highlight-style: pygments\n",
    "format:\n",
    "  html: \n",
    "    code-fold: true\n",
    "    highlight-style: vim-dark\n",
    "---"
   ]
  },
  {
   "cell_type": "code",
   "execution_count": null,
   "id": "4ba00774",
   "metadata": {
    "ExecuteTime": {
     "end_time": "2023-03-17T08:37:40.163071Z",
     "start_time": "2023-03-17T08:37:39.574478Z"
    }
   },
   "outputs": [],
   "source": [
    "import math\n",
    "import os\n",
    "import shutil\n",
    "import subprocess\n",
    "import ctc\n",
    "import ctc.rpc\n",
    "# from ctc.toolbox import plot_utils\n",
    "import polars as pl\n",
    "import matplotlib.pyplot as plt\n",
    "import toolplot\n",
    "import numpy as np\n",
    "import toolstr"
   ]
  },
  {
   "cell_type": "code",
   "execution_count": null,
   "id": "e20e93bb",
   "metadata": {},
   "outputs": [],
   "source": [
    "# setup environment\n",
    "os.chdir('../')"
   ]
  },
  {
   "attachments": {},
   "cell_type": "markdown",
   "id": "1fdaabc9",
   "metadata": {},
   "source": [
    "# Overview: This notebook explores the Ethereum contracts dataset."
   ]
  },
  {
   "attachments": {},
   "cell_type": "markdown",
   "id": "b6e6903f",
   "metadata": {},
   "source": [
    "## What data are we looking at?"
   ]
  },
  {
   "cell_type": "code",
   "execution_count": null,
   "id": "3f404394",
   "metadata": {},
   "outputs": [],
   "source": [
    "# an example `parquet` file\n",
    "df = pl.read_parquet('datasets/ethereum_contracts/ethereum_contracts__v1_0_0__00000000_to_00999999.parquet')\n",
    "with pl.Config() as cfg:\n",
    "    # cfg.set_tbl_cols(-1)\n",
    "    # cfg.set_tbl_width_chars(200)\n",
    "    cfg.set_tbl_hide_dataframe_shape(True)\n",
    "    print(df.head())"
   ]
  },
  {
   "cell_type": "code",
   "execution_count": null,
   "id": "21ef5ec5",
   "metadata": {
    "ExecuteTime": {
     "end_time": "2023-03-17T08:37:40.165873Z",
     "start_time": "2023-03-17T08:37:40.164035Z"
    }
   },
   "outputs": [],
   "source": [
    "# all `parquet` files\n",
    "data_path = '/Users/nvtrang/code/ethereum/paradigm-data-portal/datasets/ethereum_contracts/ethereum_contracts__v1_0_0__*.parquet'\n",
    "data_path = os.path.expanduser(data_path)\n",
    "# dataset = pl.scan_parquet(data_path)\n"
   ]
  },
  {
   "cell_type": "code",
   "execution_count": null,
   "id": "d4a33914",
   "metadata": {},
   "outputs": [],
   "source": [
    "result = pl.scan_parquet(data_path).select(pl.col('block_number').min()).collect()\n",
    "min_block_number = result['block_number'][0]\n",
    "min_block_number\n",
    "print(f'min_block_number: {min_block_number}')"
   ]
  },
  {
   "attachments": {},
   "cell_type": "markdown",
   "id": "51819def",
   "metadata": {},
   "source": [
    "### How many contract deployments have there been?"
   ]
  },
  {
   "cell_type": "code",
   "execution_count": null,
   "id": "5dd807b5",
   "metadata": {
    "ExecuteTime": {
     "end_time": "2023-03-17T08:37:40.337997Z",
     "start_time": "2023-03-17T08:37:40.170346Z"
    }
   },
   "outputs": [],
   "source": [
    "result = pl.scan_parquet(data_path).select(pl.col('create_index').count()).collect()\n",
    "n_deployments = result['create_index'][0]\n",
    "\n",
    "n_deployments"
   ]
  }
 ],
 "metadata": {
  "kernelspec": {
   "display_name": "Python 3 (ipykernel)",
   "language": "python",
   "name": "python3"
  },
  "language_info": {
   "codemirror_mode": {
    "name": "ipython",
    "version": 3
   },
   "file_extension": ".py",
   "mimetype": "text/x-python",
   "name": "python",
   "nbconvert_exporter": "python",
   "pygments_lexer": "ipython3",
   "version": "3.9.12"
  }
 },
 "nbformat": 4,
 "nbformat_minor": 5
}
