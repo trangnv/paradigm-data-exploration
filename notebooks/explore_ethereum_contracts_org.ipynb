{
 "cells": [
  {
   "cell_type": "raw",
   "id": "c7f526a9",
   "metadata": {},
   "source": [
    "---\n",
    "title: \"Quarto Document\"\n",
    "author: \"Norah Jones\"\n",
    "toc: true\n",
    "number-sections: true\n",
    "highlight-style: pygments\n",
    "format:\n",
    "  html: \n",
    "    code-fold: true\n",
    "    html-math-method: katex\n",
    "---"
   ]
  },
  {
   "cell_type": "markdown",
   "id": "86faefdf",
   "metadata": {},
   "source": [
    "# Ethereum Contracts\n",
    "\n",
    "This notebook demonstrates how to use the `ethereum_contracts` dataset to answer questions about the history of contracts on Ethereum.\n",
    "\n",
    "Additional information about this dataset can be found [here](https://github.com/paradigmxyz/paradigm-data-portal/tree/main/datasets/ethereum_contracts)\n",
    "\n",
    "The examples below use [polars](https://github.com/pola-rs/polars) library to read the files directly without needing to import them to a database. Polars is also used in streaming mode, so that the dataset does not need to fit into memory.\n",
    "\n",
    "\n",
    "## Ethereum contracts by the numbers\n",
    "\n",
    "All of these fun facts are computed in the examples below:\n",
    "```\n",
    "- 20% of all ethereum contracts have been deployed by just 10 EOAs\n",
    "- 49% of all ethereum contracts have been created by just 10 factories\n",
    "- 56% of all ethereum contracts use just 10 bytecode templates\n",
    "- 0.46% of ethereum addresses have been deployed more than once\n",
    "- The most times that a single contract address has been deployed is 848\n",
    "- The most contracts deployed in a single transaction or block is 701\n",
    "- 57M contracts have been deployed by 4.2M EOAs using 492K factories\n",
    "- Only 878K unique contracts have been deployed\n",
    "- The most leading zeros in a contract address is 14, of which there are 2 contracts\n",
    "```"
   ]
  },
  {
   "cell_type": "code",
   "execution_count": 2,
   "id": "4ba00774",
   "metadata": {
    "ExecuteTime": {
     "end_time": "2023-03-17T08:37:40.163071Z",
     "start_time": "2023-03-17T08:37:39.574478Z"
    }
   },
   "outputs": [],
   "source": [
    "import math\n",
    "import os\n",
    "import shutil\n",
    "import subprocess\n",
    "\n",
    "import ctc\n",
    "import ctc.rpc\n",
    "# from ctc.toolbox import plot_utils\n",
    "import polars as pl\n",
    "import matplotlib.pyplot as plt\n",
    "import toolplot\n",
    "import numpy as np\n",
    "import toolstr"
   ]
  },
  {
   "cell_type": "code",
   "execution_count": 3,
   "id": "21ef5ec5",
   "metadata": {
    "ExecuteTime": {
     "end_time": "2023-03-17T08:37:40.165873Z",
     "start_time": "2023-03-17T08:37:40.164035Z"
    }
   },
   "outputs": [],
   "source": [
    "# set up env\n",
    "\n",
    "# plot_utils.set_column_display_width()\n",
    "\n",
    "data_path = '/Users/nvtrang/code/ethereum/paradigm-data-portal/datasets/ethereum_contracts/ethereum_contracts__v1_0_0__*.parquet'\n",
    "data_path = os.path.expanduser(data_path)"
   ]
  },
  {
   "cell_type": "markdown",
   "id": "a3dbb36c",
   "metadata": {},
   "source": [
    "# Let's count the entites and events in the data..."
   ]
  },
  {
   "cell_type": "code",
   "execution_count": 4,
   "id": "0530cfab",
   "metadata": {
    "ExecuteTime": {
     "end_time": "2023-03-17T08:37:40.169216Z",
     "start_time": "2023-03-17T08:37:40.167367Z"
    }
   },
   "outputs": [],
   "source": [
    "def get_unique_column_count(column):\n",
    "    result = pl.scan_parquet(data_path).select(\n",
    "        pl.col(column).n_unique(),\n",
    "    ).collect(streaming=True)\n",
    "    return result[column][0]"
   ]
  },
  {
   "cell_type": "markdown",
   "id": "51819def",
   "metadata": {},
   "source": [
    "### How many contract deployments have there been?\n",
    "57887821"
   ]
  },
  {
   "cell_type": "code",
   "execution_count": 5,
   "id": "5dd807b5",
   "metadata": {
    "ExecuteTime": {
     "end_time": "2023-03-17T08:37:40.337997Z",
     "start_time": "2023-03-17T08:37:40.170346Z"
    }
   },
   "outputs": [
    {
     "data": {
      "text/plain": [
       "57887821"
      ]
     },
     "execution_count": 5,
     "metadata": {},
     "output_type": "execute_result"
    }
   ],
   "source": [
    "result = pl.scan_parquet(data_path).select(pl.col('create_index').count()).collect()\n",
    "n_deployments = result['create_index'][0]\n",
    "\n",
    "n_deployments"
   ]
  },
  {
   "cell_type": "markdown",
   "id": "65a3b65b",
   "metadata": {},
   "source": [
    "### How many unique contract addresses have been deployed?"
   ]
  },
  {
   "cell_type": "code",
   "execution_count": 6,
   "id": "c7932fad",
   "metadata": {
    "ExecuteTime": {
     "end_time": "2023-03-17T08:37:45.994489Z",
     "start_time": "2023-03-17T08:37:40.338942Z"
    }
   },
   "outputs": [
    {
     "data": {
      "text/plain": [
       "57314368"
      ]
     },
     "execution_count": 6,
     "metadata": {},
     "output_type": "execute_result"
    }
   ],
   "source": [
    "n_unique_contract_addresses = get_unique_column_count('contract_address')\n",
    "\n",
    "n_unique_contract_addresses"
   ]
  },
  {
   "cell_type": "markdown",
   "id": "a31d2882",
   "metadata": {
    "ExecuteTime": {
     "end_time": "2023-03-17T07:32:30.733225Z",
     "start_time": "2023-03-17T07:32:30.730521Z"
    }
   },
   "source": [
    "### How many factories have been used to create contracts?"
   ]
  },
  {
   "cell_type": "code",
   "execution_count": 6,
   "id": "0c25ad4e",
   "metadata": {
    "ExecuteTime": {
     "end_time": "2023-03-17T08:37:47.417752Z",
     "start_time": "2023-03-17T08:37:45.995334Z"
    }
   },
   "outputs": [
    {
     "data": {
      "text/plain": [
       "491663"
      ]
     },
     "execution_count": 6,
     "metadata": {},
     "output_type": "execute_result"
    }
   ],
   "source": [
    "get_unique_column_count('factory')"
   ]
  },
  {
   "cell_type": "markdown",
   "id": "b1ff5170",
   "metadata": {},
   "source": [
    "### How many EOAs have deployed contracts?"
   ]
  },
  {
   "cell_type": "code",
   "execution_count": 7,
   "id": "6a261ae8",
   "metadata": {
    "ExecuteTime": {
     "end_time": "2023-03-17T08:37:49.222589Z",
     "start_time": "2023-03-17T08:37:47.418595Z"
    }
   },
   "outputs": [
    {
     "data": {
      "text/plain": [
       "4228306"
      ]
     },
     "execution_count": 7,
     "metadata": {},
     "output_type": "execute_result"
    }
   ],
   "source": [
    "get_unique_column_count('deployer')"
   ]
  },
  {
   "cell_type": "markdown",
   "id": "36232d5e",
   "metadata": {
    "ExecuteTime": {
     "end_time": "2023-03-17T07:47:06.448334Z",
     "start_time": "2023-03-17T07:47:06.437229Z"
    }
   },
   "source": [
    "### How many unique contract bytecodes have been deployed?"
   ]
  },
  {
   "cell_type": "code",
   "execution_count": 8,
   "id": "6774e0e6",
   "metadata": {
    "ExecuteTime": {
     "end_time": "2023-03-17T08:37:50.801194Z",
     "start_time": "2023-03-17T08:37:49.223456Z"
    }
   },
   "outputs": [
    {
     "data": {
      "text/plain": [
       "878235"
      ]
     },
     "execution_count": 8,
     "metadata": {},
     "output_type": "execute_result"
    }
   ],
   "source": [
    "get_unique_column_count('code_hash')"
   ]
  },
  {
   "cell_type": "markdown",
   "id": "f92d9488",
   "metadata": {},
   "source": [
    "### How many contract addresses have been deployed more than one time?"
   ]
  },
  {
   "cell_type": "code",
   "execution_count": 9,
   "id": "1ea9db30",
   "metadata": {
    "ExecuteTime": {
     "end_time": "2023-03-17T08:37:59.350041Z",
     "start_time": "2023-03-17T08:37:50.803493Z"
    }
   },
   "outputs": [
    {
     "name": "stderr",
     "output_type": "stream",
     "text": [
      "PARTITIONED DS: estimated cardinality: 1 exceeded the boundary: 0.4, running default HASH AGGREGATION\n"
     ]
    },
    {
     "data": {
      "text/plain": [
       "265431"
      ]
     },
     "execution_count": 9,
     "metadata": {},
     "output_type": "execute_result"
    }
   ],
   "source": [
    "n_deployed_more_than_once = (\n",
    "    pl.scan_parquet(data_path)\n",
    "    .groupby(pl.col(\"contract_address\"))\n",
    "    .agg(pl.count())\n",
    "    .filter(pl.col('count') > 1)\n",
    "    .select(pl.count())\n",
    "    .collect(streaming=True)\n",
    ").rows()[0][0]\n",
    "\n",
    "n_deployed_more_than_once"
   ]
  },
  {
   "cell_type": "code",
   "execution_count": 10,
   "id": "09647a8f",
   "metadata": {
    "ExecuteTime": {
     "end_time": "2023-03-17T08:37:59.353187Z",
     "start_time": "2023-03-17T08:37:59.350984Z"
    }
   },
   "outputs": [
    {
     "name": "stdout",
     "output_type": "stream",
     "text": [
      "0.46% of contract addresses have been deployed more than once\n"
     ]
    }
   ],
   "source": [
    "more_than_once_percent = toolstr.format(\n",
    "    n_deployed_more_than_once / n_unique_contract_addresses,\n",
    "    percentage=True,\n",
    "    decimals=2,\n",
    ")\n",
    "print(more_than_once_percent, 'of contract addresses have been deployed more than once')"
   ]
  },
  {
   "cell_type": "markdown",
   "id": "4010a16f",
   "metadata": {},
   "source": [
    "# Let's look at some top 10 leaderboards"
   ]
  },
  {
   "cell_type": "code",
   "execution_count": 11,
   "id": "c3ab908c",
   "metadata": {
    "ExecuteTime": {
     "end_time": "2023-03-17T08:37:59.356539Z",
     "start_time": "2023-03-17T08:37:59.354132Z"
    }
   },
   "outputs": [],
   "source": [
    "def get_top_n(column, n):\n",
    "    col = '0x' + (pl.col(column).struct.field(column).bin.encode('hex'))\n",
    "    return (\n",
    "        pl.scan_parquet(data_path)\n",
    "        .select(pl.col(column).value_counts())\n",
    "        .select([col.alias(column), pl.col(column).struct.field('counts')])\n",
    "        .sort('counts', descending=True)\n",
    "        .head(n)\n",
    "        .collect(streaming=True)\n",
    "    )"
   ]
  },
  {
   "cell_type": "markdown",
   "id": "16d8a3b0",
   "metadata": {},
   "source": [
    "### Which EOAs have deployed the most contracts?"
   ]
  },
  {
   "cell_type": "code",
   "execution_count": 12,
   "id": "a60b21d5",
   "metadata": {
    "ExecuteTime": {
     "end_time": "2023-03-17T08:38:02.583756Z",
     "start_time": "2023-03-17T08:37:59.357442Z"
    },
    "scrolled": true
   },
   "outputs": [
    {
     "data": {
      "text/html": [
       "<div><style>\n",
       ".dataframe > thead > tr > th,\n",
       ".dataframe > tbody > tr > td {\n",
       "  text-align: right;\n",
       "}\n",
       "</style>\n",
       "<small>shape: (10, 2)</small><table border=\"1\" class=\"dataframe\"><thead><tr><th>deployer</th><th>counts</th></tr><tr><td>str</td><td>u32</td></tr></thead><tbody><tr><td>&quot;0xffff46e05a09314daae9176fc32dba0f4172dcdb&quot;</td><td>2854163</td></tr><tr><td>&quot;0xe5c99b740572c2dabf7e3a418c4e9df2f793a599&quot;</td><td>1822822</td></tr><tr><td>&quot;0x6cace0528324a8afc2b157ceba3cdd2a27c4e21f&quot;</td><td>1579922</td></tr><tr><td>&quot;0x5f5a901463fbffeca2b4dfad613bc49e445467cd&quot;</td><td>954224</td></tr><tr><td>&quot;0xf24c621e5108607f4ec60e9c4f91719a76c7b3c9&quot;</td><td>952859</td></tr><tr><td>&quot;0x9901c66f2d4b95f7074b553da78084d708beca70&quot;</td><td>801294</td></tr><tr><td>&quot;0xfc9161b4ca1e5db6fecf7d914a73c95ac969b7b9&quot;</td><td>665752</td></tr><tr><td>&quot;0x2aab3ddd93ededc4d4275bef3e4f4d2ca95e0008&quot;</td><td>600176</td></tr><tr><td>&quot;0x06ca51ab3c82c4a834872ebff806a9a78e2aea47&quot;</td><td>542637</td></tr><tr><td>&quot;0xddd26c200bf6dbb775a9d91fc24b5ece5be7a45f&quot;</td><td>529780</td></tr></tbody></table></div>"
      ],
      "text/plain": [
       "shape: (10, 2)\n",
       "┌────────────────────────────────────────────┬─────────┐\n",
       "│ deployer                                   ┆ counts  │\n",
       "│ ---                                        ┆ ---     │\n",
       "│ str                                        ┆ u32     │\n",
       "╞════════════════════════════════════════════╪═════════╡\n",
       "│ 0xffff46e05a09314daae9176fc32dba0f4172dcdb ┆ 2854163 │\n",
       "│ 0xe5c99b740572c2dabf7e3a418c4e9df2f793a599 ┆ 1822822 │\n",
       "│ 0x6cace0528324a8afc2b157ceba3cdd2a27c4e21f ┆ 1579922 │\n",
       "│ 0x5f5a901463fbffeca2b4dfad613bc49e445467cd ┆ 954224  │\n",
       "│ ...                                        ┆ ...     │\n",
       "│ 0xfc9161b4ca1e5db6fecf7d914a73c95ac969b7b9 ┆ 665752  │\n",
       "│ 0x2aab3ddd93ededc4d4275bef3e4f4d2ca95e0008 ┆ 600176  │\n",
       "│ 0x06ca51ab3c82c4a834872ebff806a9a78e2aea47 ┆ 542637  │\n",
       "│ 0xddd26c200bf6dbb775a9d91fc24b5ece5be7a45f ┆ 529780  │\n",
       "└────────────────────────────────────────────┴─────────┘"
      ]
     },
     "execution_count": 12,
     "metadata": {},
     "output_type": "execute_result"
    }
   ],
   "source": [
    "top_10_deployers = get_top_n('deployer', 10)\n",
    "\n",
    "top_10_deployers"
   ]
  },
  {
   "cell_type": "code",
   "execution_count": 13,
   "id": "600894d1",
   "metadata": {
    "ExecuteTime": {
     "end_time": "2023-03-17T08:38:02.586682Z",
     "start_time": "2023-03-17T08:38:02.584645Z"
    }
   },
   "outputs": [
    {
     "name": "stdout",
     "output_type": "stream",
     "text": [
      "The top 10 deployers have deployed 19.5% of all contracts on Ethereum\n"
     ]
    }
   ],
   "source": [
    "top_10_deployer_percent = toolstr.format(\n",
    "    top_10_deployers['counts'].sum() / n_deployments,\n",
    "    percentage=True,\n",
    "    decimals=1,\n",
    ")\n",
    "\n",
    "print('The top 10 deployers have deployed', top_10_deployer_percent, 'of all contracts on Ethereum')"
   ]
  },
  {
   "cell_type": "markdown",
   "id": "84871342",
   "metadata": {},
   "source": [
    "### Which factories have deployed the most contracts?"
   ]
  },
  {
   "cell_type": "code",
   "execution_count": 14,
   "id": "65f539ac",
   "metadata": {
    "ExecuteTime": {
     "end_time": "2023-03-17T08:38:04.413081Z",
     "start_time": "2023-03-17T08:38:02.587389Z"
    }
   },
   "outputs": [
    {
     "data": {
      "text/html": [
       "<div><style>\n",
       ".dataframe > thead > tr > th,\n",
       ".dataframe > tbody > tr > td {\n",
       "  text-align: right;\n",
       "}\n",
       "</style>\n",
       "<small>shape: (10, 2)</small><table border=\"1\" class=\"dataframe\"><thead><tr><th>factory</th><th>counts</th></tr><tr><td>str</td><td>u32</td></tr></thead><tbody><tr><td>&quot;0x0000000000004946c0e9f43f4dee607b0ef1fa1c&quot;</td><td>10364776</td></tr><tr><td>&quot;0x0000000000b3f879cb30fe243b4dfee438691c04&quot;</td><td>6493824</td></tr><tr><td>&quot;0x0de8bf93da2f7eecb3d9169422413a9bef4ef628&quot;</td><td>2324361</td></tr><tr><td>&quot;0x0000000000007f150bd6f54c40a34d7c3d5e9f56&quot;</td><td>1647068</td></tr><tr><td>&quot;0xa3c1e324ca1ce40db73ed6026c4a177f099b5770&quot;</td><td>1586334</td></tr><tr><td>&quot;0xa5409ec958c83c3f309868babaca7c86dcb077c1&quot;</td><td>1552418</td></tr><tr><td>&quot;0x8a91c9a16cd62693649d80afa85a09dbbdcb8508&quot;</td><td>1088378</td></tr><tr><td>&quot;0x0a252663dbcc0b073063d6420a40319e438cfa59&quot;</td><td>1021675</td></tr><tr><td>&quot;0x881d4032abe4188e2237efcd27ab435e81fc6bb1&quot;</td><td>994275</td></tr><tr><td>&quot;0x46d781c076596e1836f62461f150f387ad140c0e&quot;</td><td>952859</td></tr></tbody></table></div>"
      ],
      "text/plain": [
       "shape: (10, 2)\n",
       "┌────────────────────────────────────────────┬──────────┐\n",
       "│ factory                                    ┆ counts   │\n",
       "│ ---                                        ┆ ---      │\n",
       "│ str                                        ┆ u32      │\n",
       "╞════════════════════════════════════════════╪══════════╡\n",
       "│ 0x0000000000004946c0e9f43f4dee607b0ef1fa1c ┆ 10364776 │\n",
       "│ 0x0000000000b3f879cb30fe243b4dfee438691c04 ┆ 6493824  │\n",
       "│ 0x0de8bf93da2f7eecb3d9169422413a9bef4ef628 ┆ 2324361  │\n",
       "│ 0x0000000000007f150bd6f54c40a34d7c3d5e9f56 ┆ 1647068  │\n",
       "│ ...                                        ┆ ...      │\n",
       "│ 0x8a91c9a16cd62693649d80afa85a09dbbdcb8508 ┆ 1088378  │\n",
       "│ 0x0a252663dbcc0b073063d6420a40319e438cfa59 ┆ 1021675  │\n",
       "│ 0x881d4032abe4188e2237efcd27ab435e81fc6bb1 ┆ 994275   │\n",
       "│ 0x46d781c076596e1836f62461f150f387ad140c0e ┆ 952859   │\n",
       "└────────────────────────────────────────────┴──────────┘"
      ]
     },
     "execution_count": 14,
     "metadata": {},
     "output_type": "execute_result"
    }
   ],
   "source": [
    "top_10_factories = get_top_n('factory', 10)\n",
    "\n",
    "top_10_factories"
   ]
  },
  {
   "cell_type": "code",
   "execution_count": 15,
   "id": "1707c794",
   "metadata": {
    "ExecuteTime": {
     "end_time": "2023-03-17T08:38:04.416040Z",
     "start_time": "2023-03-17T08:38:04.414078Z"
    }
   },
   "outputs": [
    {
     "name": "stdout",
     "output_type": "stream",
     "text": [
      "The top 10 factories have deployed 48.4% of all contracts on Ethereum\n"
     ]
    }
   ],
   "source": [
    "top_10_factory_percent = toolstr.format(\n",
    "    top_10_factories['counts'].sum() / n_deployments,\n",
    "    percentage=True,\n",
    "    decimals=1,\n",
    ")\n",
    "\n",
    "print('The top 10 factories have deployed', top_10_factory_percent, 'of all contracts on Ethereum')"
   ]
  },
  {
   "cell_type": "markdown",
   "id": "1547b71b",
   "metadata": {},
   "source": [
    "### Which contract bytecodes are most common?"
   ]
  },
  {
   "cell_type": "code",
   "execution_count": 16,
   "id": "9402c4fb",
   "metadata": {
    "ExecuteTime": {
     "end_time": "2023-03-17T08:38:06.506449Z",
     "start_time": "2023-03-17T08:38:04.416917Z"
    }
   },
   "outputs": [
    {
     "data": {
      "text/html": [
       "<div><style>\n",
       ".dataframe > thead > tr > th,\n",
       ".dataframe > tbody > tr > td {\n",
       "  text-align: right;\n",
       "}\n",
       "</style>\n",
       "<small>shape: (10, 2)</small><table border=\"1\" class=\"dataframe\"><thead><tr><th>code_hash</th><th>counts</th></tr><tr><td>str</td><td>u32</td></tr></thead><tbody><tr><td>&quot;0x1d93f60f105899172f7255c030301c3af4564edd4a48577dbdc448aec7ddb0ac&quot;</td><td>10365216</td></tr><tr><td>&quot;0xd80cd839dd3957d572b90780ada202a13936fa2875daea94216263371e9ef1d2&quot;</td><td>6494337</td></tr><tr><td>&quot;0xc5d2460186f7233c927e7db2dcc703c0e500b653ca82273b7bfad8045d85a470&quot;</td><td>4853969</td></tr><tr><td>&quot;0x562d59a51820d47f520c975e0b2bcffac644a509749a3161f481f57b6e826d21&quot;</td><td>2324361</td></tr><tr><td>&quot;0x8f789d24f75f80df63f1d69c18963fb4c2dea81ade3b780fd0c886e4d1fabc4a&quot;</td><td>1647068</td></tr><tr><td>&quot;0xce33220d5c7f0d09d75ceff76c05863c5e7d6e801c70dfe7d5d45d4c44e80654&quot;</td><td>1595657</td></tr><tr><td>&quot;0x99c99f1a6d65a9097e0f8ca61683878ed26099e347359f5cdc600bd194dbe908&quot;</td><td>1548789</td></tr><tr><td>&quot;0x647d5d7eb5af6fbf9ed95320cadf658cec3819ffa536adc7b6387fdf1b72123d&quot;</td><td>1542104</td></tr><tr><td>&quot;0x2df39c0062882ba634fb24c89e7f9871ecef10a6e6a6e79a336f6ed463d5c942&quot;</td><td>1175582</td></tr><tr><td>&quot;0x905982d3bc98b3ad75d5ca7a92446cc8923fae39a2352245000f9d3e9dc0f3ee&quot;</td><td>1088378</td></tr></tbody></table></div>"
      ],
      "text/plain": [
       "shape: (10, 2)\n",
       "┌────────────────────────────────────────────────────────────────────┬──────────┐\n",
       "│ code_hash                                                          ┆ counts   │\n",
       "│ ---                                                                ┆ ---      │\n",
       "│ str                                                                ┆ u32      │\n",
       "╞════════════════════════════════════════════════════════════════════╪══════════╡\n",
       "│ 0x1d93f60f105899172f7255c030301c3af4564edd4a48577dbdc448aec7ddb0ac ┆ 10365216 │\n",
       "│ 0xd80cd839dd3957d572b90780ada202a13936fa2875daea94216263371e9ef1d2 ┆ 6494337  │\n",
       "│ 0xc5d2460186f7233c927e7db2dcc703c0e500b653ca82273b7bfad8045d85a470 ┆ 4853969  │\n",
       "│ 0x562d59a51820d47f520c975e0b2bcffac644a509749a3161f481f57b6e826d21 ┆ 2324361  │\n",
       "│ ...                                                                ┆ ...      │\n",
       "│ 0x99c99f1a6d65a9097e0f8ca61683878ed26099e347359f5cdc600bd194dbe908 ┆ 1548789  │\n",
       "│ 0x647d5d7eb5af6fbf9ed95320cadf658cec3819ffa536adc7b6387fdf1b72123d ┆ 1542104  │\n",
       "│ 0x2df39c0062882ba634fb24c89e7f9871ecef10a6e6a6e79a336f6ed463d5c942 ┆ 1175582  │\n",
       "│ 0x905982d3bc98b3ad75d5ca7a92446cc8923fae39a2352245000f9d3e9dc0f3ee ┆ 1088378  │\n",
       "└────────────────────────────────────────────────────────────────────┴──────────┘"
      ]
     },
     "execution_count": 16,
     "metadata": {},
     "output_type": "execute_result"
    }
   ],
   "source": [
    "top_10_bytecodes = get_top_n(\"code_hash\", 10)\n",
    "\n",
    "top_10_bytecodes"
   ]
  },
  {
   "cell_type": "code",
   "execution_count": 17,
   "id": "24c3fcdc",
   "metadata": {
    "ExecuteTime": {
     "end_time": "2023-03-17T08:38:06.509533Z",
     "start_time": "2023-03-17T08:38:06.507328Z"
    }
   },
   "outputs": [
    {
     "name": "stdout",
     "output_type": "stream",
     "text": [
      "The top 10 bytecodes represent 56.4% of all contracts on Ethereum\n"
     ]
    }
   ],
   "source": [
    "top_10_bytecode_percent = toolstr.format(\n",
    "    top_10_bytecodes['counts'].sum() / n_deployments,\n",
    "    percentage=True,\n",
    "    decimals=1,\n",
    ")\n",
    "\n",
    "print('The top 10 bytecodes represent', top_10_bytecode_percent, 'of all contracts on Ethereum')"
   ]
  },
  {
   "cell_type": "markdown",
   "id": "0a3997ac",
   "metadata": {},
   "source": [
    "### Which contract addresses have been deployed the most number of times?"
   ]
  },
  {
   "cell_type": "code",
   "execution_count": 18,
   "id": "e1fbcca8",
   "metadata": {
    "ExecuteTime": {
     "end_time": "2023-03-17T08:38:23.759200Z",
     "start_time": "2023-03-17T08:38:06.510712Z"
    }
   },
   "outputs": [
    {
     "data": {
      "text/html": [
       "<div><style>\n",
       ".dataframe > thead > tr > th,\n",
       ".dataframe > tbody > tr > td {\n",
       "  text-align: right;\n",
       "}\n",
       "</style>\n",
       "<small>shape: (10, 2)</small><table border=\"1\" class=\"dataframe\"><thead><tr><th>contract_address</th><th>counts</th></tr><tr><td>str</td><td>u32</td></tr></thead><tbody><tr><td>&quot;0xba4ac7aadfa00003a20c954e077d5c81994c8ece&quot;</td><td>848</td></tr><tr><td>&quot;0x9c14d5cb81d576e97874b593bffdee670347bfd6&quot;</td><td>843</td></tr><tr><td>&quot;0xa46ec029df976770a75b2ce42fd4276ddc26a961&quot;</td><td>818</td></tr><tr><td>&quot;0x08bd3b769ffd7992e1d14101a2235eeff7232c57&quot;</td><td>817</td></tr><tr><td>&quot;0x3e2d8eabd99bc994d2ab4a804c6f804120af123e&quot;</td><td>743</td></tr><tr><td>&quot;0x71664ea68d994fb064aed08807257b2c6dfbd65d&quot;</td><td>730</td></tr><tr><td>&quot;0x472875a6fde6cc05b53e58f7e7064d5add45c4bf&quot;</td><td>729</td></tr><tr><td>&quot;0x8a454242940937c95dffb7b038fe27b61817f036&quot;</td><td>497</td></tr><tr><td>&quot;0x19486d3a1da8cfeb4cd19c9c4fe5624a6587673c&quot;</td><td>496</td></tr><tr><td>&quot;0x43adca66ac4d4037e4b5403bbe76fb25f33016c7&quot;</td><td>488</td></tr></tbody></table></div>"
      ],
      "text/plain": [
       "shape: (10, 2)\n",
       "┌────────────────────────────────────────────┬────────┐\n",
       "│ contract_address                           ┆ counts │\n",
       "│ ---                                        ┆ ---    │\n",
       "│ str                                        ┆ u32    │\n",
       "╞════════════════════════════════════════════╪════════╡\n",
       "│ 0xba4ac7aadfa00003a20c954e077d5c81994c8ece ┆ 848    │\n",
       "│ 0x9c14d5cb81d576e97874b593bffdee670347bfd6 ┆ 843    │\n",
       "│ 0xa46ec029df976770a75b2ce42fd4276ddc26a961 ┆ 818    │\n",
       "│ 0x08bd3b769ffd7992e1d14101a2235eeff7232c57 ┆ 817    │\n",
       "│ ...                                        ┆ ...    │\n",
       "│ 0x472875a6fde6cc05b53e58f7e7064d5add45c4bf ┆ 729    │\n",
       "│ 0x8a454242940937c95dffb7b038fe27b61817f036 ┆ 497    │\n",
       "│ 0x19486d3a1da8cfeb4cd19c9c4fe5624a6587673c ┆ 496    │\n",
       "│ 0x43adca66ac4d4037e4b5403bbe76fb25f33016c7 ┆ 488    │\n",
       "└────────────────────────────────────────────┴────────┘"
      ]
     },
     "execution_count": 18,
     "metadata": {},
     "output_type": "execute_result"
    }
   ],
   "source": [
    "top_10_contract_addresses = get_top_n('contract_address', 10)\n",
    "\n",
    "top_10_contract_addresses"
   ]
  },
  {
   "cell_type": "markdown",
   "id": "cb6992b0",
   "metadata": {},
   "source": [
    "### What is the most contracts deployed in a single transaction?"
   ]
  },
  {
   "cell_type": "code",
   "execution_count": 19,
   "id": "96fbc3a0",
   "metadata": {
    "ExecuteTime": {
     "end_time": "2023-03-17T08:38:32.266084Z",
     "start_time": "2023-03-17T08:38:23.760103Z"
    }
   },
   "outputs": [
    {
     "data": {
      "text/html": [
       "<div><style>\n",
       ".dataframe > thead > tr > th,\n",
       ".dataframe > tbody > tr > td {\n",
       "  text-align: right;\n",
       "}\n",
       "</style>\n",
       "<small>shape: (10, 2)</small><table border=\"1\" class=\"dataframe\"><thead><tr><th>transaction_hash</th><th>counts</th></tr><tr><td>str</td><td>u32</td></tr></thead><tbody><tr><td>&quot;0x81ab1942007f36adf8a8b5930e1b0e5e9f9880dca65e972a43b13be51cfe4ad4&quot;</td><td>701</td></tr><tr><td>&quot;0x46e7884e8a8d6663135d36a80ab0a9ee2bd286e6f82e4a359c7a2a7841224298&quot;</td><td>701</td></tr><tr><td>&quot;0x394937bc18f92f976faba76bf816b9da53d3708d14c71423ec490bbb7820b627&quot;</td><td>700</td></tr><tr><td>&quot;0x0fab831e2808129816a241472e64f9b680d6035326e696391c28acea4eb908ba&quot;</td><td>700</td></tr><tr><td>&quot;0xc92a2a570ee0048da8779a75ac2c8b98d1d0af49683aa92e46bb844899be1dc9&quot;</td><td>700</td></tr><tr><td>&quot;0x00a1f4b87db8f9e16f3912a8099580a6293805a95fb45f0d8d8ab50b685a8daa&quot;</td><td>700</td></tr><tr><td>&quot;0xeb5b8ead45667b9d1e0fbbf0eefec4122235afacee05aace04ca71b9b2f501ed&quot;</td><td>700</td></tr><tr><td>&quot;0x809ffb6ef139520603e4a5d620a9e501e5a885486bb3e6b1ddc8b49fe759cbfe&quot;</td><td>700</td></tr><tr><td>&quot;0x044eae45065067a8dc42280ed50bbbf00537bc8a68de2e516e0206a28bab1878&quot;</td><td>700</td></tr><tr><td>&quot;0xaa1a5d776d07f66fa943747ee2f7229a5ae9eba34400119285e486278ace4e4e&quot;</td><td>700</td></tr></tbody></table></div>"
      ],
      "text/plain": [
       "shape: (10, 2)\n",
       "┌────────────────────────────────────────────────────────────────────┬────────┐\n",
       "│ transaction_hash                                                   ┆ counts │\n",
       "│ ---                                                                ┆ ---    │\n",
       "│ str                                                                ┆ u32    │\n",
       "╞════════════════════════════════════════════════════════════════════╪════════╡\n",
       "│ 0x81ab1942007f36adf8a8b5930e1b0e5e9f9880dca65e972a43b13be51cfe4ad4 ┆ 701    │\n",
       "│ 0x46e7884e8a8d6663135d36a80ab0a9ee2bd286e6f82e4a359c7a2a7841224298 ┆ 701    │\n",
       "│ 0x394937bc18f92f976faba76bf816b9da53d3708d14c71423ec490bbb7820b627 ┆ 700    │\n",
       "│ 0x0fab831e2808129816a241472e64f9b680d6035326e696391c28acea4eb908ba ┆ 700    │\n",
       "│ ...                                                                ┆ ...    │\n",
       "│ 0xeb5b8ead45667b9d1e0fbbf0eefec4122235afacee05aace04ca71b9b2f501ed ┆ 700    │\n",
       "│ 0x809ffb6ef139520603e4a5d620a9e501e5a885486bb3e6b1ddc8b49fe759cbfe ┆ 700    │\n",
       "│ 0x044eae45065067a8dc42280ed50bbbf00537bc8a68de2e516e0206a28bab1878 ┆ 700    │\n",
       "│ 0xaa1a5d776d07f66fa943747ee2f7229a5ae9eba34400119285e486278ace4e4e ┆ 700    │\n",
       "└────────────────────────────────────────────────────────────────────┴────────┘"
      ]
     },
     "execution_count": 19,
     "metadata": {},
     "output_type": "execute_result"
    }
   ],
   "source": [
    "top_10_transactions = get_top_n('transaction_hash', 10)\n",
    "\n",
    "top_10_transactions"
   ]
  },
  {
   "cell_type": "markdown",
   "id": "a60183c8",
   "metadata": {},
   "source": [
    "### Which contracts have the most leading zeros?"
   ]
  },
  {
   "cell_type": "code",
   "execution_count": 20,
   "id": "e310fd72",
   "metadata": {
    "ExecuteTime": {
     "end_time": "2023-03-17T08:38:40.830127Z",
     "start_time": "2023-03-17T08:38:32.267245Z"
    }
   },
   "outputs": [
    {
     "name": "stdout",
     "output_type": "stream",
     "text": [
      "0x000000000000005394b1ed7aa43cc33358517d24 14\n",
      "0x000000000000006f6502b7f2bbac8c30a3f67e9a 14\n",
      "0x00000000000001ad428e4906ae43d8f9852d0dd6 13\n",
      "0x00000000000003441d59dde9a90bffb1cd3fabf1 13\n",
      "0x00000000000003c98e6a44a835cb776385bed207 13\n",
      "0x00000000000006c7676171937c444f6bde3d6282 13\n",
      "0x000000000000073760fc462304360d9e887e4ef4 13\n",
      "0x000000000000084e91743124a982076c59f10084 13\n",
      "0x000000000000093dfd365e70a598de99c41ec840 13\n",
      "0x0000000000000ad24e80fd803c6ac37206a45f15 13\n"
     ]
    }
   ],
   "source": [
    "sorted_contracts = (\n",
    "    pl.scan_parquet(data_path)\n",
    "    .select(pl.col('contract_address'))\n",
    "    .sort('contract_address')\n",
    "    .unique()\n",
    "    .head(10)\n",
    "    .collect(streaming=True)\n",
    ")['contract_address']\n",
    "\n",
    "for binary_address in sorted_contracts:\n",
    "    address = ctc.binary_convert(binary_address, 'prefix_hex')\n",
    "    print(address, 40 - len(address.lstrip('0x')))"
   ]
  },
  {
   "cell_type": "markdown",
   "id": "61265e7f",
   "metadata": {},
   "source": [
    "# We can also perform targeted queries"
   ]
  },
  {
   "cell_type": "markdown",
   "id": "002d1f92",
   "metadata": {},
   "source": [
    "### Who deployed this contract? When? What was the creation transaction?"
   ]
  },
  {
   "cell_type": "code",
   "execution_count": 21,
   "id": "07568399",
   "metadata": {
    "ExecuteTime": {
     "end_time": "2023-03-17T08:38:40.832894Z",
     "start_time": "2023-03-17T08:38:40.831239Z"
    }
   },
   "outputs": [],
   "source": [
    "DAI = '0x6b175474e89094c44da98b954eedeac495271d0f'"
   ]
  },
  {
   "cell_type": "code",
   "execution_count": 22,
   "id": "7dddb7c0",
   "metadata": {
    "ExecuteTime": {
     "end_time": "2023-03-17T08:38:57.220691Z",
     "start_time": "2023-03-17T08:38:40.833801Z"
    }
   },
   "outputs": [
    {
     "name": "stderr",
     "output_type": "stream",
     "text": [
      "STREAMING CHUNK SIZE: 40000 rows\n"
     ]
    },
    {
     "data": {
      "text/html": [
       "<div><style>\n",
       ".dataframe > thead > tr > th,\n",
       ".dataframe > tbody > tr > td {\n",
       "  text-align: right;\n",
       "}\n",
       "</style>\n",
       "<small>shape: (1, 10)</small><table border=\"1\" class=\"dataframe\"><thead><tr><th>block_number</th><th>create_index</th><th>transaction_hash</th><th>contract_address</th><th>deployer</th><th>factory</th><th>init_code</th><th>code</th><th>init_code_hash</th><th>code_hash</th></tr><tr><td>i64</td><td>i64</td><td>str</td><td>str</td><td>str</td><td>str</td><td>str</td><td>str</td><td>str</td><td>str</td></tr></thead><tbody><tr><td>8928158</td><td>0</td><td>&quot;0x495402df7d45fe36329b0bd94487f49baee62026d50f654600f6771bd2a596ab&quot;</td><td>&quot;0x6b175474e89094c44da98b954eedeac495271d0f&quot;</td><td>&quot;0xddb108893104de4e1c6d0e47c42237db4e617acc&quot;</td><td>&quot;0xb5b06a16621616875a6c2637948bf98ea57c58fa&quot;</td><td>&quot;0x608060405234801561001057600080fd5b506040516120d33803806120d38339818...</td><td>&quot;0x608060405234801561001057600080fd5b50600436106101425760003560e01c806...</td><td>&quot;0xa24ab178906449d0fd98af1310988221249de763de7f661bce0b613010689770&quot;</td><td>&quot;0x4e36f96ee1667a663dfaac57c4d185a0e369a3a217e0079d49620f34f85d1ac7&quot;</td></tr></tbody></table></div>"
      ],
      "text/plain": [
       "shape: (1, 10)\n",
       "┌────────────┬────────────┬────────────┬────────────┬─────┬─────────┬───────┬────────────┬─────────┐\n",
       "│ block_numb ┆ create_ind ┆ transactio ┆ contract_a ┆ ... ┆ init_co ┆ code  ┆ init_code_ ┆ code_ha │\n",
       "│ er         ┆ ex         ┆ n_hash     ┆ ddress     ┆     ┆ de      ┆ ---   ┆ hash       ┆ sh      │\n",
       "│ ---        ┆ ---        ┆ ---        ┆ ---        ┆     ┆ ---     ┆ str   ┆ ---        ┆ ---     │\n",
       "│ i64        ┆ i64        ┆ str        ┆ str        ┆     ┆ str     ┆       ┆ str        ┆ str     │\n",
       "╞════════════╪════════════╪════════════╪════════════╪═════╪═════════╪═══════╪════════════╪═════════╡\n",
       "│ 8928158    ┆ 0          ┆ 0x495402df ┆ 0x6b175474 ┆ ... ┆ 0x60806 ┆ 0x608 ┆ 0xa24ab178 ┆ 0x4e36f │\n",
       "│            ┆            ┆ 7d45fe3632 ┆ e89094c44d ┆     ┆ 0405234 ┆ 06040 ┆ 906449d0fd ┆ 96ee166 │\n",
       "│            ┆            ┆ 9b0bd94487 ┆ a98b954eed ┆     ┆ 8015610 ┆ 52348 ┆ 98af131098 ┆ 7a663df │\n",
       "│            ┆            ┆ f49baee620 ┆ eac495271d ┆     ┆ 0105760 ┆ 01561 ┆ 8221249de7 ┆ aac57c4 │\n",
       "│            ┆            ┆ 26d50f6546 ┆ 0f         ┆     ┆ 0080fd5 ┆ 00105 ┆ 63de7f661b ┆ d185a0e │\n",
       "│            ┆            ┆ 00f6771bd2 ┆            ┆     ┆ b506040 ┆ 76000 ┆ ce0b613010 ┆ 369a3a2 │\n",
       "│            ┆            ┆ a596ab     ┆            ┆     ┆ 516120d ┆ 80fd5 ┆ 689770     ┆ 17e0079 │\n",
       "│            ┆            ┆            ┆            ┆     ┆ 3380380 ┆ b5060 ┆            ┆ d49620f │\n",
       "│            ┆            ┆            ┆            ┆     ┆ 6120d38 ┆ 04361 ┆            ┆ 34f85d1 │\n",
       "│            ┆            ┆            ┆            ┆     ┆ 3398181 ┆ 06101 ┆            ┆ ac7     │\n",
       "│            ┆            ┆            ┆            ┆     ┆ ...     ┆ 42576 ┆            ┆         │\n",
       "│            ┆            ┆            ┆            ┆     ┆         ┆ 00035 ┆            ┆         │\n",
       "│            ┆            ┆            ┆            ┆     ┆         ┆ 60e01 ┆            ┆         │\n",
       "│            ┆            ┆            ┆            ┆     ┆         ┆ c8063 ┆            ┆         │\n",
       "│            ┆            ┆            ┆            ┆     ┆         ┆ ...   ┆            ┆         │\n",
       "└────────────┴────────────┴────────────┴────────────┴─────┴─────────┴───────┴────────────┴─────────┘"
      ]
     },
     "execution_count": 22,
     "metadata": {},
     "output_type": "execute_result"
    }
   ],
   "source": [
    "binary_address = ctc.binary_convert(DAI, 'binary')\n",
    "\n",
    "result = (\n",
    "    pl.scan_parquet(data_path)\n",
    "    .filter(pl.col('contract_address') == binary_address)\n",
    "    .collect(streaming=True)\n",
    ")\n",
    "pl_utils.binary_columns_to_prefix_hex(result)"
   ]
  },
  {
   "cell_type": "markdown",
   "id": "6f8890ea",
   "metadata": {
    "ExecuteTime": {
     "end_time": "2023-03-17T08:22:31.981030Z",
     "start_time": "2023-03-17T08:22:31.971910Z"
    }
   },
   "source": [
    "### What are all of the deployed Uniswap V2 pools?"
   ]
  },
  {
   "cell_type": "code",
   "execution_count": 23,
   "id": "9a00ca00",
   "metadata": {
    "ExecuteTime": {
     "end_time": "2023-03-17T08:38:57.223072Z",
     "start_time": "2023-03-17T08:38:57.221515Z"
    }
   },
   "outputs": [],
   "source": [
    "example_pool = '0xb4e16d0168e52d35cacd2c6185b44281ec28c9dc'"
   ]
  },
  {
   "cell_type": "code",
   "execution_count": 24,
   "id": "4ff7017c",
   "metadata": {
    "ExecuteTime": {
     "end_time": "2023-03-17T08:39:22.997491Z",
     "start_time": "2023-03-17T08:38:57.223827Z"
    }
   },
   "outputs": [
    {
     "name": "stderr",
     "output_type": "stream",
     "text": [
      "STREAMING CHUNK SIZE: 40000 rows\n"
     ]
    },
    {
     "data": {
      "text/html": [
       "<div><style>\n",
       ".dataframe > thead > tr > th,\n",
       ".dataframe > tbody > tr > td {\n",
       "  text-align: right;\n",
       "}\n",
       "</style>\n",
       "<small>shape: (151776, 10)</small><table border=\"1\" class=\"dataframe\"><thead><tr><th>block_number</th><th>create_index</th><th>transaction_hash</th><th>contract_address</th><th>deployer</th><th>factory</th><th>init_code</th><th>code</th><th>init_code_hash</th><th>code_hash</th></tr><tr><td>i64</td><td>i64</td><td>str</td><td>str</td><td>str</td><td>str</td><td>str</td><td>str</td><td>str</td><td>str</td></tr></thead><tbody><tr><td>10008355</td><td>14</td><td>&quot;0xd07cbde817318492092cc7a27b3064a69bd893c01cb593d6029683ffd290ab3a&quot;</td><td>&quot;0xb4e16d0168e52d35cacd2c6185b44281ec28c9dc&quot;</td><td>&quot;0xf94e5cdf41247e268d4847c30a0dc2893b33e85d&quot;</td><td>&quot;0x5c69bee701ef814a2b6a3edd4b1652cb9cc5aa6f&quot;</td><td>&quot;0x60806040526001600c5534801561001557600080fd5b506040514690806052612d2...</td><td>&quot;0x608060405234801561001057600080fd5b50600436106101b95760003560e01c806...</td><td>&quot;0x96e8ac4277198ff8b6f785478aa9a39f403cb768dd02cbee326c3e7da348845f&quot;</td><td>&quot;0x5b83bdbcc56b2e630f2807bbadd2b0c21619108066b92a58de081261089e9ce5&quot;</td></tr><tr><td>10008500</td><td>0</td><td>&quot;0xb0621ca74cee9f540dda6d575f6a7b876133b42684c1259aaeb59c831410ccb2&quot;</td><td>&quot;0x3139ffc91b99aa94da8a2dc13f1fc36f9bdc98ee&quot;</td><td>&quot;0x3a5a935b58901c25234fc481574bb7fde5135393&quot;</td><td>&quot;0x5c69bee701ef814a2b6a3edd4b1652cb9cc5aa6f&quot;</td><td>&quot;0x60806040526001600c5534801561001557600080fd5b506040514690806052612d2...</td><td>&quot;0x608060405234801561001057600080fd5b50600436106101b95760003560e01c806...</td><td>&quot;0x96e8ac4277198ff8b6f785478aa9a39f403cb768dd02cbee326c3e7da348845f&quot;</td><td>&quot;0x5b83bdbcc56b2e630f2807bbadd2b0c21619108066b92a58de081261089e9ce5&quot;</td></tr><tr><td>10014178</td><td>4</td><td>&quot;0x98f92a0b6063b0b581722cecf8ef01131c24c4377e6d3323d9184d1a262fc168&quot;</td><td>&quot;0x12ede161c702d1494612d19f05992f43aa6a26fb&quot;</td><td>&quot;0x8688a84fcfd84d8f78020d0fc0b35987cc58911f&quot;</td><td>&quot;0x5c69bee701ef814a2b6a3edd4b1652cb9cc5aa6f&quot;</td><td>&quot;0x60806040526001600c5534801561001557600080fd5b506040514690806052612d2...</td><td>&quot;0x608060405234801561001057600080fd5b50600436106101b95760003560e01c806...</td><td>&quot;0x96e8ac4277198ff8b6f785478aa9a39f403cb768dd02cbee326c3e7da348845f&quot;</td><td>&quot;0x5b83bdbcc56b2e630f2807bbadd2b0c21619108066b92a58de081261089e9ce5&quot;</td></tr><tr><td>10042267</td><td>0</td><td>&quot;0xc4c1840db940f5075c5404266efe50d7c65bc079f318ab8e5a10b8a432b49d30&quot;</td><td>&quot;0xa478c2975ab1ea89e8196811f51a7b7ade33eb11&quot;</td><td>&quot;0x74aa01d162e6dc6a657cac857418c403d48e2d77&quot;</td><td>&quot;0x5c69bee701ef814a2b6a3edd4b1652cb9cc5aa6f&quot;</td><td>&quot;0x60806040526001600c5534801561001557600080fd5b506040514690806052612d2...</td><td>&quot;0x608060405234801561001057600080fd5b50600436106101b95760003560e01c806...</td><td>&quot;0x96e8ac4277198ff8b6f785478aa9a39f403cb768dd02cbee326c3e7da348845f&quot;</td><td>&quot;0x5b83bdbcc56b2e630f2807bbadd2b0c21619108066b92a58de081261089e9ce5&quot;</td></tr><tr><td>10060679</td><td>0</td><td>&quot;0xee29b2a9306dab868b53919836c4a81feca435de6902c230c291b576ec9fa680&quot;</td><td>&quot;0x07f068ca326a469fc1d87d85d448990c8cba7df9&quot;</td><td>&quot;0xb96abc18d24eeda781f83be55ed737056965944b&quot;</td><td>&quot;0x5c69bee701ef814a2b6a3edd4b1652cb9cc5aa6f&quot;</td><td>&quot;0x60806040526001600c5534801561001557600080fd5b506040514690806052612d2...</td><td>&quot;0x608060405234801561001057600080fd5b50600436106101b95760003560e01c806...</td><td>&quot;0x96e8ac4277198ff8b6f785478aa9a39f403cb768dd02cbee326c3e7da348845f&quot;</td><td>&quot;0x5b83bdbcc56b2e630f2807bbadd2b0c21619108066b92a58de081261089e9ce5&quot;</td></tr><tr><td>10060832</td><td>0</td><td>&quot;0x966e4e9acaac28e44aafc937918718bc66804a3c94ac656e5e57faedd314c947&quot;</td><td>&quot;0xae461ca67b15dc8dc81ce7615e0320da1a9ab8d5&quot;</td><td>&quot;0x8688a84fcfd84d8f78020d0fc0b35987cc58911f&quot;</td><td>&quot;0x5c69bee701ef814a2b6a3edd4b1652cb9cc5aa6f&quot;</td><td>&quot;0x60806040526001600c5534801561001557600080fd5b506040514690806052612d2...</td><td>&quot;0x608060405234801561001057600080fd5b50600436106101b95760003560e01c806...</td><td>&quot;0x96e8ac4277198ff8b6f785478aa9a39f403cb768dd02cbee326c3e7da348845f&quot;</td><td>&quot;0x5b83bdbcc56b2e630f2807bbadd2b0c21619108066b92a58de081261089e9ce5&quot;</td></tr><tr><td>10061003</td><td>1</td><td>&quot;0x2e150ec518660ada856c2c57689bb45c5600bdbd38fc58043d99e99d7a031f83&quot;</td><td>&quot;0xce407cd7b95b39d3b4d53065e711e713dd5c5999&quot;</td><td>&quot;0x11e4857bb9993a50c685a79afad4e6f65d518dda&quot;</td><td>&quot;0x5c69bee701ef814a2b6a3edd4b1652cb9cc5aa6f&quot;</td><td>&quot;0x60806040526001600c5534801561001557600080fd5b506040514690806052612d2...</td><td>&quot;0x608060405234801561001057600080fd5b50600436106101b95760003560e01c806...</td><td>&quot;0x96e8ac4277198ff8b6f785478aa9a39f403cb768dd02cbee326c3e7da348845f&quot;</td><td>&quot;0x5b83bdbcc56b2e630f2807bbadd2b0c21619108066b92a58de081261089e9ce5&quot;</td></tr><tr><td>10061271</td><td>0</td><td>&quot;0x9dca7318a5ebb0a585bbb5749f1d4d4dd1aa93bfae896cd53ba50cf1693d22e0&quot;</td><td>&quot;0x33c2d48bc95fb7d0199c5c693e7a9f527145a9af&quot;</td><td>&quot;0x66666600e43c6d9e1a249d29d58639dedfcd9ade&quot;</td><td>&quot;0x5c69bee701ef814a2b6a3edd4b1652cb9cc5aa6f&quot;</td><td>&quot;0x60806040526001600c5534801561001557600080fd5b506040514690806052612d2...</td><td>&quot;0x608060405234801561001057600080fd5b50600436106101b95760003560e01c806...</td><td>&quot;0x96e8ac4277198ff8b6f785478aa9a39f403cb768dd02cbee326c3e7da348845f&quot;</td><td>&quot;0x5b83bdbcc56b2e630f2807bbadd2b0c21619108066b92a58de081261089e9ce5&quot;</td></tr><tr><td>10061933</td><td>0</td><td>&quot;0xbbc3b17a6a526c8fedbfac38c70c1ab69a67f15dbbe0cd32e874f5687c4ac5fb&quot;</td><td>&quot;0xb6909b960dbbe7392d405429eb2b3649752b4838&quot;</td><td>&quot;0x74aa01d162e6dc6a657cac857418c403d48e2d77&quot;</td><td>&quot;0x5c69bee701ef814a2b6a3edd4b1652cb9cc5aa6f&quot;</td><td>&quot;0x60806040526001600c5534801561001557600080fd5b506040514690806052612d2...</td><td>&quot;0x608060405234801561001057600080fd5b50600436106101b95760003560e01c806...</td><td>&quot;0x96e8ac4277198ff8b6f785478aa9a39f403cb768dd02cbee326c3e7da348845f&quot;</td><td>&quot;0x5b83bdbcc56b2e630f2807bbadd2b0c21619108066b92a58de081261089e9ce5&quot;</td></tr><tr><td>10091031</td><td>0</td><td>&quot;0x2b17e2c3328c27788e0e6c3673ce1c35ad70df2c634afbee03826de53f4a05b0&quot;</td><td>&quot;0x30eb5e15476e6a80f4f3cd8479749b4881dab1b8&quot;</td><td>&quot;0xa5b65d4a68c1c71aae3910199f4ab266f726afbf&quot;</td><td>&quot;0x5c69bee701ef814a2b6a3edd4b1652cb9cc5aa6f&quot;</td><td>&quot;0x60806040526001600c5534801561001557600080fd5b506040514690806052612d2...</td><td>&quot;0x608060405234801561001057600080fd5b50600436106101b95760003560e01c806...</td><td>&quot;0x96e8ac4277198ff8b6f785478aa9a39f403cb768dd02cbee326c3e7da348845f&quot;</td><td>&quot;0x5b83bdbcc56b2e630f2807bbadd2b0c21619108066b92a58de081261089e9ce5&quot;</td></tr><tr><td>10091097</td><td>0</td><td>&quot;0x7578a3b32f0c884422126d606098d164eca40d0e51bae3d997bb993cc1646b13&quot;</td><td>&quot;0xbb2b8038a1640196fbe3e38816f3e67cba72d940&quot;</td><td>&quot;0x6f1821a5fa09c0d1c833ba714f4adae3c8a8edd9&quot;</td><td>&quot;0x5c69bee701ef814a2b6a3edd4b1652cb9cc5aa6f&quot;</td><td>&quot;0x60806040526001600c5534801561001557600080fd5b506040514690806052612d2...</td><td>&quot;0x608060405234801561001057600080fd5b50600436106101b95760003560e01c806...</td><td>&quot;0x96e8ac4277198ff8b6f785478aa9a39f403cb768dd02cbee326c3e7da348845f&quot;</td><td>&quot;0x5b83bdbcc56b2e630f2807bbadd2b0c21619108066b92a58de081261089e9ce5&quot;</td></tr><tr><td>10091280</td><td>0</td><td>&quot;0x293e16ca56cd8dda304a6263ce6ac9d3b4ebbed3750fce96dda9d6f93e2bed99&quot;</td><td>&quot;0x9896bd979f9da57857322cc15e154222c4658a5a&quot;</td><td>&quot;0x11e4857bb9993a50c685a79afad4e6f65d518dda&quot;</td><td>&quot;0x5c69bee701ef814a2b6a3edd4b1652cb9cc5aa6f&quot;</td><td>&quot;0x60806040526001600c5534801561001557600080fd5b506040514690806052612d2...</td><td>&quot;0x608060405234801561001057600080fd5b50600436106101b95760003560e01c806...</td><td>&quot;0x96e8ac4277198ff8b6f785478aa9a39f403cb768dd02cbee326c3e7da348845f&quot;</td><td>&quot;0x5b83bdbcc56b2e630f2807bbadd2b0c21619108066b92a58de081261089e9ce5&quot;</td></tr><tr><td>...</td><td>...</td><td>...</td><td>...</td><td>...</td><td>...</td><td>...</td><td>...</td><td>...</td><td>...</td></tr><tr><td>16799705</td><td>1</td><td>&quot;0x2452f9e0b2506c2e88195a1807c02f81afe29fc01f8a31f7920c84e54efbd893&quot;</td><td>&quot;0x41b625115929c09f800a1c0f4ab5123f6da9b434&quot;</td><td>&quot;0xf99a74cfdd1debb46087e78117351963f3a0f3b0&quot;</td><td>&quot;0x5c69bee701ef814a2b6a3edd4b1652cb9cc5aa6f&quot;</td><td>&quot;0x60806040526001600c5534801561001557600080fd5b506040514690806052612d2...</td><td>&quot;0x608060405234801561001057600080fd5b50600436106101b95760003560e01c806...</td><td>&quot;0x96e8ac4277198ff8b6f785478aa9a39f403cb768dd02cbee326c3e7da348845f&quot;</td><td>&quot;0x5b83bdbcc56b2e630f2807bbadd2b0c21619108066b92a58de081261089e9ce5&quot;</td></tr><tr><td>16799758</td><td>1</td><td>&quot;0xc1ece6e16bdc507351828acea4638f9cf433e3785ba20bb8ee3aa6509e0566ba&quot;</td><td>&quot;0xa8c6d9bc05dafb6ae800381a6c5cac3bd7c8fefc&quot;</td><td>&quot;0x89d2700d753a0ee3b1020726ba5f3a88ddbef0e8&quot;</td><td>&quot;0x5c69bee701ef814a2b6a3edd4b1652cb9cc5aa6f&quot;</td><td>&quot;0x60806040526001600c5534801561001557600080fd5b506040514690806052612d2...</td><td>&quot;0x608060405234801561001057600080fd5b50600436106101b95760003560e01c806...</td><td>&quot;0x96e8ac4277198ff8b6f785478aa9a39f403cb768dd02cbee326c3e7da348845f&quot;</td><td>&quot;0x5b83bdbcc56b2e630f2807bbadd2b0c21619108066b92a58de081261089e9ce5&quot;</td></tr><tr><td>16799817</td><td>1</td><td>&quot;0x8da57fa57a7697fa04e89831727abf7e6da79a6e6624ee0604191cd0fd3df411&quot;</td><td>&quot;0x74239f995a22778a8454d193541515a33018efd9&quot;</td><td>&quot;0x952054a0752b67815222cb7edeab0f02a17d9169&quot;</td><td>&quot;0x5c69bee701ef814a2b6a3edd4b1652cb9cc5aa6f&quot;</td><td>&quot;0x60806040526001600c5534801561001557600080fd5b506040514690806052612d2...</td><td>&quot;0x608060405234801561001057600080fd5b50600436106101b95760003560e01c806...</td><td>&quot;0x96e8ac4277198ff8b6f785478aa9a39f403cb768dd02cbee326c3e7da348845f&quot;</td><td>&quot;0x5b83bdbcc56b2e630f2807bbadd2b0c21619108066b92a58de081261089e9ce5&quot;</td></tr><tr><td>16799817</td><td>3</td><td>&quot;0x2a03ebceb8afc732d18523b0f694f534a61fad736a51356dd49a69b7f5ec1c58&quot;</td><td>&quot;0xac4a1764dbcb537ca55de08c0bd03526312866d8&quot;</td><td>&quot;0xf5b87f2d9eb0923a8f274c277cc96429d375321f&quot;</td><td>&quot;0x5c69bee701ef814a2b6a3edd4b1652cb9cc5aa6f&quot;</td><td>&quot;0x60806040526001600c5534801561001557600080fd5b506040514690806052612d2...</td><td>&quot;0x608060405234801561001057600080fd5b50600436106101b95760003560e01c806...</td><td>&quot;0x96e8ac4277198ff8b6f785478aa9a39f403cb768dd02cbee326c3e7da348845f&quot;</td><td>&quot;0x5b83bdbcc56b2e630f2807bbadd2b0c21619108066b92a58de081261089e9ce5&quot;</td></tr><tr><td>16799830</td><td>1</td><td>&quot;0x6f68b7122c9b13594038c2fb2681a50af024715abcfa53121e9d0aeb16473a7c&quot;</td><td>&quot;0x0c5bbf69aa57350a80b75c217bddfc3063a28735&quot;</td><td>&quot;0x2fa06cd099a5bf23002d6e4eb0c3ac9a42c93664&quot;</td><td>&quot;0x5c69bee701ef814a2b6a3edd4b1652cb9cc5aa6f&quot;</td><td>&quot;0x60806040526001600c5534801561001557600080fd5b506040514690806052612d2...</td><td>&quot;0x608060405234801561001057600080fd5b50600436106101b95760003560e01c806...</td><td>&quot;0x96e8ac4277198ff8b6f785478aa9a39f403cb768dd02cbee326c3e7da348845f&quot;</td><td>&quot;0x5b83bdbcc56b2e630f2807bbadd2b0c21619108066b92a58de081261089e9ce5&quot;</td></tr><tr><td>16799830</td><td>2</td><td>&quot;0x8d41a4e22e160bc871fbe53d3f8a79b5b8cd6ffecce38ba23edf10d7fb5030d8&quot;</td><td>&quot;0x7454f0b4ef4eace11005cf650934e46f07d25b22&quot;</td><td>&quot;0xd91a0177d77c1c89bbdff6e976311241b6473495&quot;</td><td>&quot;0x5c69bee701ef814a2b6a3edd4b1652cb9cc5aa6f&quot;</td><td>&quot;0x60806040526001600c5534801561001557600080fd5b506040514690806052612d2...</td><td>&quot;0x608060405234801561001057600080fd5b50600436106101b95760003560e01c806...</td><td>&quot;0x96e8ac4277198ff8b6f785478aa9a39f403cb768dd02cbee326c3e7da348845f&quot;</td><td>&quot;0x5b83bdbcc56b2e630f2807bbadd2b0c21619108066b92a58de081261089e9ce5&quot;</td></tr><tr><td>16799867</td><td>5</td><td>&quot;0xf32470d508e7a7a42896ec9f29e5a4aff491f737fa0014728b3f09f05ebb6af3&quot;</td><td>&quot;0x4601bde5430715927ed23d0095d2432b6b18d56f&quot;</td><td>&quot;0xd9165557ac4f733dbd2e6e5e86796b839fd4e16c&quot;</td><td>&quot;0x5c69bee701ef814a2b6a3edd4b1652cb9cc5aa6f&quot;</td><td>&quot;0x60806040526001600c5534801561001557600080fd5b506040514690806052612d2...</td><td>&quot;0x608060405234801561001057600080fd5b50600436106101b95760003560e01c806...</td><td>&quot;0x96e8ac4277198ff8b6f785478aa9a39f403cb768dd02cbee326c3e7da348845f&quot;</td><td>&quot;0x5b83bdbcc56b2e630f2807bbadd2b0c21619108066b92a58de081261089e9ce5&quot;</td></tr><tr><td>16799878</td><td>1</td><td>&quot;0xdc076bce0201717aa60cb84c4d61c971c52bef52541f995a99f5482cb5b7523a&quot;</td><td>&quot;0xa7afb1b166f092cda4e8e65d46d62fadb05f8c87&quot;</td><td>&quot;0xfb1c38c669ff97cf98ba0227625af8c874e5aa2e&quot;</td><td>&quot;0x5c69bee701ef814a2b6a3edd4b1652cb9cc5aa6f&quot;</td><td>&quot;0x60806040526001600c5534801561001557600080fd5b506040514690806052612d2...</td><td>&quot;0x608060405234801561001057600080fd5b50600436106101b95760003560e01c806...</td><td>&quot;0x96e8ac4277198ff8b6f785478aa9a39f403cb768dd02cbee326c3e7da348845f&quot;</td><td>&quot;0x5b83bdbcc56b2e630f2807bbadd2b0c21619108066b92a58de081261089e9ce5&quot;</td></tr><tr><td>16799902</td><td>2</td><td>&quot;0xd8c04117b57274211a1dc0b6b2cb2686bf48f839c1349f81919dbd785c921f52&quot;</td><td>&quot;0xedcc876b4fd37c7c17aa0ceb185878ba99482d61&quot;</td><td>&quot;0x3f5baf7b0601ba072f3e46fbc3b71a8ee5ccf937&quot;</td><td>&quot;0x5c69bee701ef814a2b6a3edd4b1652cb9cc5aa6f&quot;</td><td>&quot;0x60806040526001600c5534801561001557600080fd5b506040514690806052612d2...</td><td>&quot;0x608060405234801561001057600080fd5b50600436106101b95760003560e01c806...</td><td>&quot;0x96e8ac4277198ff8b6f785478aa9a39f403cb768dd02cbee326c3e7da348845f&quot;</td><td>&quot;0x5b83bdbcc56b2e630f2807bbadd2b0c21619108066b92a58de081261089e9ce5&quot;</td></tr><tr><td>16799912</td><td>1</td><td>&quot;0xa53d62e00b7e71ceeaa88d38f130c3c85e4d230ff157b652ba316df58499bcf7&quot;</td><td>&quot;0x07551f8b561881246f1c28e5dd54224996bd00e9&quot;</td><td>&quot;0x121ef1dcf2835761f732dbd16d63cab598e4e080&quot;</td><td>&quot;0x5c69bee701ef814a2b6a3edd4b1652cb9cc5aa6f&quot;</td><td>&quot;0x60806040526001600c5534801561001557600080fd5b506040514690806052612d2...</td><td>&quot;0x608060405234801561001057600080fd5b50600436106101b95760003560e01c806...</td><td>&quot;0x96e8ac4277198ff8b6f785478aa9a39f403cb768dd02cbee326c3e7da348845f&quot;</td><td>&quot;0x5b83bdbcc56b2e630f2807bbadd2b0c21619108066b92a58de081261089e9ce5&quot;</td></tr><tr><td>16799917</td><td>2</td><td>&quot;0xb58e2f78c01cadc61b63fcb2f3ee5ac50ae902cfb128a79e7786e905967793c5&quot;</td><td>&quot;0x7b47bf4bdf9c0a6ed63d8c0a288edab5297fd93f&quot;</td><td>&quot;0x549e52757bd263a162d1ec47a32c87cebb2d153f&quot;</td><td>&quot;0x5c69bee701ef814a2b6a3edd4b1652cb9cc5aa6f&quot;</td><td>&quot;0x60806040526001600c5534801561001557600080fd5b506040514690806052612d2...</td><td>&quot;0x608060405234801561001057600080fd5b50600436106101b95760003560e01c806...</td><td>&quot;0x96e8ac4277198ff8b6f785478aa9a39f403cb768dd02cbee326c3e7da348845f&quot;</td><td>&quot;0x5b83bdbcc56b2e630f2807bbadd2b0c21619108066b92a58de081261089e9ce5&quot;</td></tr><tr><td>16799994</td><td>0</td><td>&quot;0xe2e1d4ed80813c585b61299256e29b231523696cf3435222d304802bd83201ec&quot;</td><td>&quot;0xe27d90587ee4dcbf8c591c63d9160c3249f35860&quot;</td><td>&quot;0xf8392c87cb95bd635c833131229029469613d4bd&quot;</td><td>&quot;0x5c69bee701ef814a2b6a3edd4b1652cb9cc5aa6f&quot;</td><td>&quot;0x60806040526001600c5534801561001557600080fd5b506040514690806052612d2...</td><td>&quot;0x608060405234801561001057600080fd5b50600436106101b95760003560e01c806...</td><td>&quot;0x96e8ac4277198ff8b6f785478aa9a39f403cb768dd02cbee326c3e7da348845f&quot;</td><td>&quot;0x5b83bdbcc56b2e630f2807bbadd2b0c21619108066b92a58de081261089e9ce5&quot;</td></tr></tbody></table></div>"
      ],
      "text/plain": [
       "shape: (151776, 10)\n",
       "┌────────────┬────────────┬────────────┬────────────┬─────┬─────────┬───────┬────────────┬─────────┐\n",
       "│ block_numb ┆ create_ind ┆ transactio ┆ contract_a ┆ ... ┆ init_co ┆ code  ┆ init_code_ ┆ code_ha │\n",
       "│ er         ┆ ex         ┆ n_hash     ┆ ddress     ┆     ┆ de      ┆ ---   ┆ hash       ┆ sh      │\n",
       "│ ---        ┆ ---        ┆ ---        ┆ ---        ┆     ┆ ---     ┆ str   ┆ ---        ┆ ---     │\n",
       "│ i64        ┆ i64        ┆ str        ┆ str        ┆     ┆ str     ┆       ┆ str        ┆ str     │\n",
       "╞════════════╪════════════╪════════════╪════════════╪═════╪═════════╪═══════╪════════════╪═════════╡\n",
       "│ 10008355   ┆ 14         ┆ 0xd07cbde8 ┆ 0xb4e16d01 ┆ ... ┆ 0x60806 ┆ 0x608 ┆ 0x96e8ac42 ┆ 0x5b83b │\n",
       "│            ┆            ┆ 1731849209 ┆ 68e52d35ca ┆     ┆ 0405260 ┆ 06040 ┆ 77198ff8b6 ┆ dbcc56b │\n",
       "│            ┆            ┆ 2cc7a27b30 ┆ cd2c6185b4 ┆     ┆ 01600c5 ┆ 52348 ┆ f785478aa9 ┆ 2e630f2 │\n",
       "│            ┆            ┆ 64a69bd893 ┆ 4281ec28c9 ┆     ┆ 5348015 ┆ 01561 ┆ a39f403cb7 ┆ 807bbad │\n",
       "│            ┆            ┆ c01cb593d6 ┆ dc         ┆     ┆ 6100155 ┆ 00105 ┆ 68dd02cbee ┆ d2b0c21 │\n",
       "│            ┆            ┆ 029683ffd2 ┆            ┆     ┆ 7600080 ┆ 76000 ┆ 326c3e7da3 ┆ 6191080 │\n",
       "│            ┆            ┆ 90ab3a     ┆            ┆     ┆ fd5b506 ┆ 80fd5 ┆ 48845f     ┆ 66b92a5 │\n",
       "│            ┆            ┆            ┆            ┆     ┆ 0405146 ┆ b5060 ┆            ┆ 8de0812 │\n",
       "│            ┆            ┆            ┆            ┆     ┆ 9080605 ┆ 04361 ┆            ┆ 61089e9 │\n",
       "│            ┆            ┆            ┆            ┆     ┆ 2612d22 ┆ 06101 ┆            ┆ ce5     │\n",
       "│            ┆            ┆            ┆            ┆     ┆ ...     ┆ b9576 ┆            ┆         │\n",
       "│            ┆            ┆            ┆            ┆     ┆         ┆ 00035 ┆            ┆         │\n",
       "│            ┆            ┆            ┆            ┆     ┆         ┆ 60e01 ┆            ┆         │\n",
       "│            ┆            ┆            ┆            ┆     ┆         ┆ c8063 ┆            ┆         │\n",
       "│            ┆            ┆            ┆            ┆     ┆         ┆ ...   ┆            ┆         │\n",
       "│ 10008500   ┆ 0          ┆ 0xb0621ca7 ┆ 0x3139ffc9 ┆ ... ┆ 0x60806 ┆ 0x608 ┆ 0x96e8ac42 ┆ 0x5b83b │\n",
       "│            ┆            ┆ 4cee9f540d ┆ 1b99aa94da ┆     ┆ 0405260 ┆ 06040 ┆ 77198ff8b6 ┆ dbcc56b │\n",
       "│            ┆            ┆ da6d575f6a ┆ 8a2dc13f1f ┆     ┆ 01600c5 ┆ 52348 ┆ f785478aa9 ┆ 2e630f2 │\n",
       "│            ┆            ┆ 7b876133b4 ┆ c36f9bdc98 ┆     ┆ 5348015 ┆ 01561 ┆ a39f403cb7 ┆ 807bbad │\n",
       "│            ┆            ┆ 2684c1259a ┆ ee         ┆     ┆ 6100155 ┆ 00105 ┆ 68dd02cbee ┆ d2b0c21 │\n",
       "│            ┆            ┆ aeb59c8314 ┆            ┆     ┆ 7600080 ┆ 76000 ┆ 326c3e7da3 ┆ 6191080 │\n",
       "│            ┆            ┆ 10ccb2     ┆            ┆     ┆ fd5b506 ┆ 80fd5 ┆ 48845f     ┆ 66b92a5 │\n",
       "│            ┆            ┆            ┆            ┆     ┆ 0405146 ┆ b5060 ┆            ┆ 8de0812 │\n",
       "│            ┆            ┆            ┆            ┆     ┆ 9080605 ┆ 04361 ┆            ┆ 61089e9 │\n",
       "│            ┆            ┆            ┆            ┆     ┆ 2612d22 ┆ 06101 ┆            ┆ ce5     │\n",
       "│            ┆            ┆            ┆            ┆     ┆ ...     ┆ b9576 ┆            ┆         │\n",
       "│            ┆            ┆            ┆            ┆     ┆         ┆ 00035 ┆            ┆         │\n",
       "│            ┆            ┆            ┆            ┆     ┆         ┆ 60e01 ┆            ┆         │\n",
       "│            ┆            ┆            ┆            ┆     ┆         ┆ c8063 ┆            ┆         │\n",
       "│            ┆            ┆            ┆            ┆     ┆         ┆ ...   ┆            ┆         │\n",
       "│ 10014178   ┆ 4          ┆ 0x98f92a0b ┆ 0x12ede161 ┆ ... ┆ 0x60806 ┆ 0x608 ┆ 0x96e8ac42 ┆ 0x5b83b │\n",
       "│            ┆            ┆ 6063b0b581 ┆ c702d14946 ┆     ┆ 0405260 ┆ 06040 ┆ 77198ff8b6 ┆ dbcc56b │\n",
       "│            ┆            ┆ 722cecf8ef ┆ 12d19f0599 ┆     ┆ 01600c5 ┆ 52348 ┆ f785478aa9 ┆ 2e630f2 │\n",
       "│            ┆            ┆ 01131c24c4 ┆ 2f43aa6a26 ┆     ┆ 5348015 ┆ 01561 ┆ a39f403cb7 ┆ 807bbad │\n",
       "│            ┆            ┆ 377e6d3323 ┆ fb         ┆     ┆ 6100155 ┆ 00105 ┆ 68dd02cbee ┆ d2b0c21 │\n",
       "│            ┆            ┆ d9184d1a26 ┆            ┆     ┆ 7600080 ┆ 76000 ┆ 326c3e7da3 ┆ 6191080 │\n",
       "│            ┆            ┆ 2fc168     ┆            ┆     ┆ fd5b506 ┆ 80fd5 ┆ 48845f     ┆ 66b92a5 │\n",
       "│            ┆            ┆            ┆            ┆     ┆ 0405146 ┆ b5060 ┆            ┆ 8de0812 │\n",
       "│            ┆            ┆            ┆            ┆     ┆ 9080605 ┆ 04361 ┆            ┆ 61089e9 │\n",
       "│            ┆            ┆            ┆            ┆     ┆ 2612d22 ┆ 06101 ┆            ┆ ce5     │\n",
       "│            ┆            ┆            ┆            ┆     ┆ ...     ┆ b9576 ┆            ┆         │\n",
       "│            ┆            ┆            ┆            ┆     ┆         ┆ 00035 ┆            ┆         │\n",
       "│            ┆            ┆            ┆            ┆     ┆         ┆ 60e01 ┆            ┆         │\n",
       "│            ┆            ┆            ┆            ┆     ┆         ┆ c8063 ┆            ┆         │\n",
       "│            ┆            ┆            ┆            ┆     ┆         ┆ ...   ┆            ┆         │\n",
       "│ 10042267   ┆ 0          ┆ 0xc4c1840d ┆ 0xa478c297 ┆ ... ┆ 0x60806 ┆ 0x608 ┆ 0x96e8ac42 ┆ 0x5b83b │\n",
       "│            ┆            ┆ b940f5075c ┆ 5ab1ea89e8 ┆     ┆ 0405260 ┆ 06040 ┆ 77198ff8b6 ┆ dbcc56b │\n",
       "│            ┆            ┆ 5404266efe ┆ 196811f51a ┆     ┆ 01600c5 ┆ 52348 ┆ f785478aa9 ┆ 2e630f2 │\n",
       "│            ┆            ┆ 50d7c65bc0 ┆ 7b7ade33eb ┆     ┆ 5348015 ┆ 01561 ┆ a39f403cb7 ┆ 807bbad │\n",
       "│            ┆            ┆ 79f318ab8e ┆ 11         ┆     ┆ 6100155 ┆ 00105 ┆ 68dd02cbee ┆ d2b0c21 │\n",
       "│            ┆            ┆ 5a10b8a432 ┆            ┆     ┆ 7600080 ┆ 76000 ┆ 326c3e7da3 ┆ 6191080 │\n",
       "│            ┆            ┆ b49d30     ┆            ┆     ┆ fd5b506 ┆ 80fd5 ┆ 48845f     ┆ 66b92a5 │\n",
       "│            ┆            ┆            ┆            ┆     ┆ 0405146 ┆ b5060 ┆            ┆ 8de0812 │\n",
       "│            ┆            ┆            ┆            ┆     ┆ 9080605 ┆ 04361 ┆            ┆ 61089e9 │\n",
       "│            ┆            ┆            ┆            ┆     ┆ 2612d22 ┆ 06101 ┆            ┆ ce5     │\n",
       "│            ┆            ┆            ┆            ┆     ┆ ...     ┆ b9576 ┆            ┆         │\n",
       "│            ┆            ┆            ┆            ┆     ┆         ┆ 00035 ┆            ┆         │\n",
       "│            ┆            ┆            ┆            ┆     ┆         ┆ 60e01 ┆            ┆         │\n",
       "│            ┆            ┆            ┆            ┆     ┆         ┆ c8063 ┆            ┆         │\n",
       "│            ┆            ┆            ┆            ┆     ┆         ┆ ...   ┆            ┆         │\n",
       "│ ...        ┆ ...        ┆ ...        ┆ ...        ┆ ... ┆ ...     ┆ ...   ┆ ...        ┆ ...     │\n",
       "│ 16799902   ┆ 2          ┆ 0xd8c04117 ┆ 0xedcc876b ┆ ... ┆ 0x60806 ┆ 0x608 ┆ 0x96e8ac42 ┆ 0x5b83b │\n",
       "│            ┆            ┆ b57274211a ┆ 4fd37c7c17 ┆     ┆ 0405260 ┆ 06040 ┆ 77198ff8b6 ┆ dbcc56b │\n",
       "│            ┆            ┆ 1dc0b6b2cb ┆ aa0ceb1858 ┆     ┆ 01600c5 ┆ 52348 ┆ f785478aa9 ┆ 2e630f2 │\n",
       "│            ┆            ┆ 2686bf48f8 ┆ 78ba99482d ┆     ┆ 5348015 ┆ 01561 ┆ a39f403cb7 ┆ 807bbad │\n",
       "│            ┆            ┆ 39c1349f81 ┆ 61         ┆     ┆ 6100155 ┆ 00105 ┆ 68dd02cbee ┆ d2b0c21 │\n",
       "│            ┆            ┆ 919dbd785c ┆            ┆     ┆ 7600080 ┆ 76000 ┆ 326c3e7da3 ┆ 6191080 │\n",
       "│            ┆            ┆ 921f52     ┆            ┆     ┆ fd5b506 ┆ 80fd5 ┆ 48845f     ┆ 66b92a5 │\n",
       "│            ┆            ┆            ┆            ┆     ┆ 0405146 ┆ b5060 ┆            ┆ 8de0812 │\n",
       "│            ┆            ┆            ┆            ┆     ┆ 9080605 ┆ 04361 ┆            ┆ 61089e9 │\n",
       "│            ┆            ┆            ┆            ┆     ┆ 2612d22 ┆ 06101 ┆            ┆ ce5     │\n",
       "│            ┆            ┆            ┆            ┆     ┆ ...     ┆ b9576 ┆            ┆         │\n",
       "│            ┆            ┆            ┆            ┆     ┆         ┆ 00035 ┆            ┆         │\n",
       "│            ┆            ┆            ┆            ┆     ┆         ┆ 60e01 ┆            ┆         │\n",
       "│            ┆            ┆            ┆            ┆     ┆         ┆ c8063 ┆            ┆         │\n",
       "│            ┆            ┆            ┆            ┆     ┆         ┆ ...   ┆            ┆         │\n",
       "│ 16799912   ┆ 1          ┆ 0xa53d62e0 ┆ 0x07551f8b ┆ ... ┆ 0x60806 ┆ 0x608 ┆ 0x96e8ac42 ┆ 0x5b83b │\n",
       "│            ┆            ┆ 0b7e71ceea ┆ 561881246f ┆     ┆ 0405260 ┆ 06040 ┆ 77198ff8b6 ┆ dbcc56b │\n",
       "│            ┆            ┆ a88d38f130 ┆ 1c28e5dd54 ┆     ┆ 01600c5 ┆ 52348 ┆ f785478aa9 ┆ 2e630f2 │\n",
       "│            ┆            ┆ c3c85e4d23 ┆ 224996bd00 ┆     ┆ 5348015 ┆ 01561 ┆ a39f403cb7 ┆ 807bbad │\n",
       "│            ┆            ┆ 0ff157b652 ┆ e9         ┆     ┆ 6100155 ┆ 00105 ┆ 68dd02cbee ┆ d2b0c21 │\n",
       "│            ┆            ┆ ba316df584 ┆            ┆     ┆ 7600080 ┆ 76000 ┆ 326c3e7da3 ┆ 6191080 │\n",
       "│            ┆            ┆ 99bcf7     ┆            ┆     ┆ fd5b506 ┆ 80fd5 ┆ 48845f     ┆ 66b92a5 │\n",
       "│            ┆            ┆            ┆            ┆     ┆ 0405146 ┆ b5060 ┆            ┆ 8de0812 │\n",
       "│            ┆            ┆            ┆            ┆     ┆ 9080605 ┆ 04361 ┆            ┆ 61089e9 │\n",
       "│            ┆            ┆            ┆            ┆     ┆ 2612d22 ┆ 06101 ┆            ┆ ce5     │\n",
       "│            ┆            ┆            ┆            ┆     ┆ ...     ┆ b9576 ┆            ┆         │\n",
       "│            ┆            ┆            ┆            ┆     ┆         ┆ 00035 ┆            ┆         │\n",
       "│            ┆            ┆            ┆            ┆     ┆         ┆ 60e01 ┆            ┆         │\n",
       "│            ┆            ┆            ┆            ┆     ┆         ┆ c8063 ┆            ┆         │\n",
       "│            ┆            ┆            ┆            ┆     ┆         ┆ ...   ┆            ┆         │\n",
       "│ 16799917   ┆ 2          ┆ 0xb58e2f78 ┆ 0x7b47bf4b ┆ ... ┆ 0x60806 ┆ 0x608 ┆ 0x96e8ac42 ┆ 0x5b83b │\n",
       "│            ┆            ┆ c01cadc61b ┆ df9c0a6ed6 ┆     ┆ 0405260 ┆ 06040 ┆ 77198ff8b6 ┆ dbcc56b │\n",
       "│            ┆            ┆ 63fcb2f3ee ┆ 3d8c0a288e ┆     ┆ 01600c5 ┆ 52348 ┆ f785478aa9 ┆ 2e630f2 │\n",
       "│            ┆            ┆ 5ac50ae902 ┆ dab5297fd9 ┆     ┆ 5348015 ┆ 01561 ┆ a39f403cb7 ┆ 807bbad │\n",
       "│            ┆            ┆ cfb128a79e ┆ 3f         ┆     ┆ 6100155 ┆ 00105 ┆ 68dd02cbee ┆ d2b0c21 │\n",
       "│            ┆            ┆ 7786e90596 ┆            ┆     ┆ 7600080 ┆ 76000 ┆ 326c3e7da3 ┆ 6191080 │\n",
       "│            ┆            ┆ 7793c5     ┆            ┆     ┆ fd5b506 ┆ 80fd5 ┆ 48845f     ┆ 66b92a5 │\n",
       "│            ┆            ┆            ┆            ┆     ┆ 0405146 ┆ b5060 ┆            ┆ 8de0812 │\n",
       "│            ┆            ┆            ┆            ┆     ┆ 9080605 ┆ 04361 ┆            ┆ 61089e9 │\n",
       "│            ┆            ┆            ┆            ┆     ┆ 2612d22 ┆ 06101 ┆            ┆ ce5     │\n",
       "│            ┆            ┆            ┆            ┆     ┆ ...     ┆ b9576 ┆            ┆         │\n",
       "│            ┆            ┆            ┆            ┆     ┆         ┆ 00035 ┆            ┆         │\n",
       "│            ┆            ┆            ┆            ┆     ┆         ┆ 60e01 ┆            ┆         │\n",
       "│            ┆            ┆            ┆            ┆     ┆         ┆ c8063 ┆            ┆         │\n",
       "│            ┆            ┆            ┆            ┆     ┆         ┆ ...   ┆            ┆         │\n",
       "│ 16799994   ┆ 0          ┆ 0xe2e1d4ed ┆ 0xe27d9058 ┆ ... ┆ 0x60806 ┆ 0x608 ┆ 0x96e8ac42 ┆ 0x5b83b │\n",
       "│            ┆            ┆ 80813c585b ┆ 7ee4dcbf8c ┆     ┆ 0405260 ┆ 06040 ┆ 77198ff8b6 ┆ dbcc56b │\n",
       "│            ┆            ┆ 61299256e2 ┆ 591c63d916 ┆     ┆ 01600c5 ┆ 52348 ┆ f785478aa9 ┆ 2e630f2 │\n",
       "│            ┆            ┆ 9b23152369 ┆ 0c3249f358 ┆     ┆ 5348015 ┆ 01561 ┆ a39f403cb7 ┆ 807bbad │\n",
       "│            ┆            ┆ 6cf3435222 ┆ 60         ┆     ┆ 6100155 ┆ 00105 ┆ 68dd02cbee ┆ d2b0c21 │\n",
       "│            ┆            ┆ d304802bd8 ┆            ┆     ┆ 7600080 ┆ 76000 ┆ 326c3e7da3 ┆ 6191080 │\n",
       "│            ┆            ┆ 3201ec     ┆            ┆     ┆ fd5b506 ┆ 80fd5 ┆ 48845f     ┆ 66b92a5 │\n",
       "│            ┆            ┆            ┆            ┆     ┆ 0405146 ┆ b5060 ┆            ┆ 8de0812 │\n",
       "│            ┆            ┆            ┆            ┆     ┆ 9080605 ┆ 04361 ┆            ┆ 61089e9 │\n",
       "│            ┆            ┆            ┆            ┆     ┆ 2612d22 ┆ 06101 ┆            ┆ ce5     │\n",
       "│            ┆            ┆            ┆            ┆     ┆ ...     ┆ b9576 ┆            ┆         │\n",
       "│            ┆            ┆            ┆            ┆     ┆         ┆ 00035 ┆            ┆         │\n",
       "│            ┆            ┆            ┆            ┆     ┆         ┆ 60e01 ┆            ┆         │\n",
       "│            ┆            ┆            ┆            ┆     ┆         ┆ c8063 ┆            ┆         │\n",
       "│            ┆            ┆            ┆            ┆     ┆         ┆ ...   ┆            ┆         │\n",
       "└────────────┴────────────┴────────────┴────────────┴─────┴─────────┴───────┴────────────┴─────────┘"
      ]
     },
     "execution_count": 24,
     "metadata": {},
     "output_type": "execute_result"
    }
   ],
   "source": [
    "example_bytecode = await ctc.rpc.async_eth_get_code(example_pool)\n",
    "example_code_hash = ctc.keccak(example_bytecode, output_format='binary')\n",
    "\n",
    "result = (\n",
    "    pl.scan_parquet(data_path)\n",
    "    .filter(pl.col('code_hash') == example_code_hash)\n",
    "    .collect(streaming=True)\n",
    ")\n",
    "pl_utils.binary_columns_to_prefix_hex(result)"
   ]
  }
 ],
 "metadata": {
  "kernelspec": {
   "display_name": "Python 3",
   "language": "python",
   "name": "python3"
  },
  "language_info": {
   "codemirror_mode": {
    "name": "ipython",
    "version": 3
   },
   "file_extension": ".py",
   "mimetype": "text/x-python",
   "name": "python",
   "nbconvert_exporter": "python",
   "pygments_lexer": "ipython3",
   "version": "3.9.12"
  },
  "toc": {
   "base_numbering": 1,
   "nav_menu": {},
   "number_sections": true,
   "sideBar": true,
   "skip_h1_title": false,
   "title_cell": "Table of Contents",
   "title_sidebar": "Contents",
   "toc_cell": false,
   "toc_position": {},
   "toc_section_display": true,
   "toc_window_display": false
  }
 },
 "nbformat": 4,
 "nbformat_minor": 5
}
